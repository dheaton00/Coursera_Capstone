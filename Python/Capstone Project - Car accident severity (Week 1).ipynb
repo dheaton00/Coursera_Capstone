{
 "cells": [
  {
   "cell_type": "markdown",
   "metadata": {},
   "source": [
    "# Capstone Project - Car Accident Prediction (Week 1)\n",
    "### Applied Data Science Capstone by IBM/Coursera"
   ]
  },
  {
   "cell_type": "markdown",
   "metadata": {},
   "source": [
    "## Table of contents\n",
    "* [My Notes](#notes)\n",
    "* [Introduction: Business Problem](#introduction)\n",
    "* [Data](#data)"
   ]
  },
  {
   "cell_type": "markdown",
   "metadata": {},
   "source": [
    "---\n",
    "\n",
    "## My Notes <a name=\"notes\"></a>"
   ]
  },
  {
   "cell_type": "markdown",
   "metadata": {},
   "source": [
    "#### Problem:\n",
    "\n",
    "Say you are driving to another city for work or to visit some friends. It is rainy and windy, and on the way, you come across a terrible traffic jam on the other side of the highway. Long lines of cars barely moving. \n",
    "\n",
    "As you keep driving, police car start appearing from afar shutting down the highway. Oh, it is an accident and there's a helicopter transporting the ones involved in the crash to the nearest hospital. They must be in critical condition for all of this to be happening. \n",
    "\n",
    "__Now, wouldn't it be great if there is something in place that could warn you, given the weather and the road conditions about the possibility of you getting into a car accident and how severe it would be, so that you would drive more carefully or even change your travel if you are able to.__"
   ]
  },
  {
   "cell_type": "markdown",
   "metadata": {},
   "source": [
    "__*Thoughts about this problem:*__\n",
    "- It talks about using the output from 'some system' to change driver behaviour prior to travel such as drive 'more carefully' or 'change your travel'. This suggest predicting severity of crash before it happens.\n",
    "  - __This would impact the choice of features to use in the model__\n",
    "  - We couldn't use features that would not be available prior to a crash such as data from police and/or hospital reports.\n",
    "- The request talks of \"possibility of you getting into a car accident\" and \"how severe it will be\". This suggests that two outputs are needed. One for the probability/chance of getting into a car accident and the second for what the severity/consequence could be.\n",
    "  - Severity (from sample data) is categorical and binary\n",
    "  - Severity (from Vicroads data) is categorical and multi-class"
   ]
  },
  {
   "cell_type": "markdown",
   "metadata": {},
   "source": [
    "#### Data Selection Criteria:\n",
    "\n",
    "For this week, your main task is to decide whether you want to use the shared data or find your own dataset. In case, you choose to find your own dataset from the resources that are suggested in Week-1 video, your dataset should meet the following criteria: \n",
    "\n",
    "1. __The target or label columns should be accident \"severity\" in terms of human fatality, traffic delay, property damage, or any other type of accident bad impact.__ \n",
    "2. The machine learning model should be able to predict accident \"severity\"\n",
    "3. To build a good model, the dataset should be rich and contain many observations (rows) and various attributes (columns)"
   ]
  },
  {
   "cell_type": "markdown",
   "metadata": {},
   "source": [
    "*Logistic Regression:*\n",
    "\n",
    "Although logistic regression is best suited for instances of binary classification, it can be applied to multiclass classification problems, classification tasks with three or more classes. You accomplish this by applying a “one vs. all” strategy.\n",
    "\n",
    "What’s a “one vs. all strategy?” Let’s say you have three different classes that instances in your dataset could fall into, and if you had these three classes you could treat them as three different binary classification problems.\n",
    "\n",
    "For instance, you would train a classifier on just the examples belonging to Class A vs. all the examples belonging to all other classes. You would then do the same thing for Class B, and finally for Class C."
   ]
  },
  {
   "cell_type": "markdown",
   "metadata": {},
   "source": [
    "---\n",
    "\n",
    "## Introduction: Business Problem <a name=\"introduction\"></a>"
   ]
  },
  {
   "cell_type": "markdown",
   "metadata": {},
   "source": [
    "#### Report Instructions:\n",
    "\n",
    "_Clearly define a problem or an idea of your choice. Remember that data science problems always target an audience and are meant to help a group of stakeholders solve a problem, so make sure that you explicitly describe your audience and why they would care about your problem._\n",
    "\n",
    "_The initial phase is to understand the project's objective from the business or application perspective. Then, you need to translate this knowledge into a machine learning problem with a preliminary plan to achieve the objectives._"
   ]
  },
  {
   "cell_type": "markdown",
   "metadata": {},
   "source": [
    "#### Business Problem:\n",
    "\n",
    "Problem Brief:  \n",
    "Now, wouldn't it be great if there is something in place that could warn you, given the weather and the road conditions about the possibility of you getting into a car accident and how severe it would be, so that you would drive more carefully or even change your travel if you are able to.\n",
    "\n",
    "Target Audience:  \n",
    "Drivers planning to drive to some destination and are concerned whether current driving conditions might increase the risk of a car crash. The driver can use the warnings to boost focus and concentration or even adjust route planning. \n",
    "\n",
    "System Output:  \n",
    "Given specific driving conditions (in Victoria/Australia), predict the possibility of you getting into an accident and the severity.\n",
    "\n",
    "Geographical Focus:  \n",
    "Analysis will be focused on Victoria/Australia using data from the local road authority 'Vicroads'. "
   ]
  },
  {
   "cell_type": "markdown",
   "metadata": {},
   "source": [
    "*Assumptions and Thinking:*  \n",
    "- It talks about using the output from 'some system' to change driver behaviour prior to travel such as drive 'more carefully' or 'change your travel'. This suggest predicting severity of crash before it happens.\n",
    "  - __This would impact the choice of features to use in the model__\n",
    "  - We couldn't use features that would not be available prior to a crash such as data from police and/or hospital reports.\n",
    "- The request talks of \"possibility of you getting into a car accident\" and \"how severe it will be\". This suggests that two outputs are needed. One for the probability/chance of getting into a car accident and the second for what the severity/consequence could be. \n",
    "  - Severity (from sample data) is categorical and binary\n",
    "  - Severity (from Vicroads data) is categorical and multi-class"
   ]
  },
  {
   "cell_type": "markdown",
   "metadata": {},
   "source": [
    "---\n",
    "\n",
    "## Data <a name=\"data\"></a>"
   ]
  },
  {
   "cell_type": "markdown",
   "metadata": {},
   "source": [
    "#### Report Instructions:\n",
    "_Describe the data that you will be using to solve the problem or execute your idea. So make sure that you provide adequate explanation and discussion, with examples, of the data that you will be using._\n",
    "\n",
    "_In this phase, you need to collect or extract the dataset from various sources such as csv file or SQL database. Then, you need to determine the attributes (columns) that you will use to train your machine learning model. Also, you will assess the condition of chosen attributes by looking for trends, certain patterns, skewed information, correlations, and so on._"
   ]
  },
  {
   "cell_type": "markdown",
   "metadata": {},
   "source": [
    "##### Data Understanding:\n",
    "The data required for this stage should contain details that can be obtained prior to travel. Historical crash data would also contain data that is made available via police investigation and hostpital reports. This data can't be used for the model as it won't be available at the time of driving.\n",
    "\n",
    "##### Possible Detail / Features of Interest:  \n",
    "- Driver and passenger details (e.g. age, gender, # of occupants)\n",
    "- Date and time of travel (e.g. time of day, weekend/weekday, public holiday)\n",
    "- Vehicle details (engine type, age, safety rating)\n",
    "- Weather conditions\n",
    "- Lighting conditions\n",
    "- Road conditions (sealed, unsealed)\n",
    "- Location / Address\n",
    "\n",
    "##### Modelling Notes:\n",
    "- The use of a Probabilistic classification model (such as logistic regression) could achieve the desired output."
   ]
  },
  {
   "cell_type": "markdown",
   "metadata": {},
   "source": [
    "---"
   ]
  },
  {
   "cell_type": "markdown",
   "metadata": {},
   "source": [
    "#### Vicroads Data Sources:"
   ]
  },
  {
   "cell_type": "markdown",
   "metadata": {},
   "source": [
    "##### Vicroads (Victoria/Australia) datasets for Crash Statistics\n",
    "\n",
    "_Go to the following website:_ \n",
    "[Vicroads CrashStats Web App (Tableau)](https://www.vicroads.vic.gov.au/safety-and-road-rules/safety-statistics/crash-statistics)\n",
    "\n",
    "_click on the link:_ \n",
    "[Interactive crashstats application](https://public.tableau.com/views/CrashstatMainlandingpage/Mainpage?:embed=y&:display_count=yes&:showTabs=y&:showVizHome=no&%3Adisplay_count=yes&%3Atoolbar=no&%3Arender=false#1) to start the webapp\n",
    " \n",
    " "
   ]
  },
  {
   "cell_type": "markdown",
   "metadata": {},
   "source": [
    "##### Vicroads Data via Victorian Government Website\n",
    "https://discover.data.vic.gov.au/dataset/crashes-last-five-years1"
   ]
  }
 ],
 "metadata": {
  "kernelspec": {
   "display_name": "Python 3",
   "language": "python",
   "name": "python3"
  },
  "language_info": {
   "codemirror_mode": {
    "name": "ipython",
    "version": 3
   },
   "file_extension": ".py",
   "mimetype": "text/x-python",
   "name": "python",
   "nbconvert_exporter": "python",
   "pygments_lexer": "ipython3",
   "version": "3.6.5"
  }
 },
 "nbformat": 4,
 "nbformat_minor": 2
}
