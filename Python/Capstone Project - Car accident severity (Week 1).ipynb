{
 "cells": [
  {
   "cell_type": "markdown",
   "metadata": {},
   "source": [
    "# Capstone Project - Car Accident Prediction (Week 1)\n",
    "### Applied Data Science Capstone by IBM/Coursera"
   ]
  },
  {
   "cell_type": "markdown",
   "metadata": {},
   "source": [
    "## Table of contents\n",
    "* [My Notes](#notes)\n",
    "* [Introduction: Business Problem](#introduction)\n",
    "* [Data](#data)"
   ]
  },
  {
   "cell_type": "markdown",
   "metadata": {},
   "source": [
    "---\n",
    "\n",
    "## My Notes <a name=\"notes\"></a>"
   ]
  },
  {
   "cell_type": "markdown",
   "metadata": {},
   "source": [
    "#### Problem:\n",
    "\n",
    "Say you are driving to another city for work or to visit some friends. It is rainy and windy, and on the way, you come across a terrible traffic jam on the other side of the highway. Long lines of cars barely moving. \n",
    "\n",
    "As you keep driving, police car start appearing from afar shutting down the highway. Oh, it is an accident and there's a helicopter transporting the ones involved in the crash to the nearest hospital. They must be in critical condition for all of this to be happening. \n",
    "\n",
    "__Now, wouldn't it be great if there is something in place that could warn you, given the weather and the road conditions about the possibility of you getting into a car accident and how severe it would be, so that you would drive more carefully or even change your travel if you are able to.__"
   ]
  },
  {
   "cell_type": "markdown",
   "metadata": {},
   "source": [
    "#### Data Selection Criteria:\n",
    "\n",
    "Decide whether you want to use the shared data or find your own dataset. In case, you choose to find your own dataset from the resources that are suggested in Week-1 video, your dataset should meet the following criteria: \n",
    "\n",
    "1. __The target or label columns should be accident \"severity\" in terms of human fatality, traffic delay, property damage, or any other type of accident bad impact.__ \n",
    "2. The machine learning model should be able to predict accident \"severity\"\n",
    "3. To build a good model, the dataset should be rich and contain many observations (rows) and various attributes (columns)"
   ]
  },
  {
   "cell_type": "markdown",
   "metadata": {},
   "source": [
    "__*Thoughts about this problem:*__\n",
    "- It talks about using the output from 'some system' to change driver behaviour prior to travel such as drive 'more carefully' or 'change your travel'. This suggest predicting severity of crash before it happens.\n",
    "  - __This would impact the choice of features to use in the model__\n",
    "  - We couldn't use features that would not be available prior to a crash such as data from police and/or hospital reports.\n",
    "- The request talks of \"possibility of you getting into a car accident\" and \"how severe it will be\". This suggests that two outputs are needed. One for the probability/chance of getting into a car accident and the second for what the severity/consequence could be.\n",
    "  - Severity (from sample data) is categorical and binary although, the original data set is multi-class\n",
    "  - Severity (from Vicroads data) is categorical and multi-class"
   ]
  },
  {
   "cell_type": "markdown",
   "metadata": {},
   "source": [
    "---\n",
    "\n",
    "## Introduction: Business Problem <a name=\"introduction\"></a>"
   ]
  },
  {
   "cell_type": "markdown",
   "metadata": {},
   "source": [
    "#### Report Instructions:\n",
    "\n",
    "_Clearly define a problem or an idea of your choice. Remember that data science problems always target an audience and are meant to help a group of stakeholders solve a problem, so make sure that you explicitly describe your audience and why they would care about your problem._\n",
    "\n",
    "_The initial phase is to understand the project's objective from the business or application perspective. Then, you need to translate this knowledge into a machine learning problem with a preliminary plan to achieve the objectives._"
   ]
  },
  {
   "cell_type": "markdown",
   "metadata": {},
   "source": [
    "#### Business Problem:\n",
    "\n",
    "Problem Brief:  \n",
    "Now, wouldn't it be great if there is something in place that could warn you, given the weather and the road conditions about the possibility of you getting into a car accident and how severe it would be, so that you would drive more carefully or even change your travel if you are able to.\n",
    "\n",
    "Target Audience:  \n",
    "Drivers planning to drive to some destination and are concerned whether current driving conditions might increase the risk of a car crash. The driver can use the warnings to boost focus and concentration or even adjust route planning. \n",
    "\n",
    "System Output:  \n",
    "Given specific driving conditions (in Victoria/Australia), predict the possibility/likelihood of you getting into an accident (percentage %) and the severity (categorical output / 4 classes).\n",
    "\n",
    "Geographical Focus:  \n",
    "Analysis will be focused on Victoria/Australia using data from the local road authority 'Vicroads'. "
   ]
  },
  {
   "cell_type": "markdown",
   "metadata": {},
   "source": [
    "*Assumptions and Thinking:*  \n",
    "- The brief talks about using the output from 'some system' to change driver behaviour prior to travel such as drive 'more carefully' or 'change your travel'. This suggest predicting severity of crash before it happens.\n",
    "  - __This would impact the choice of features to use in the model__\n",
    "  - We couldn't use features that would not be available prior to a crash such as data from police and/or hospital reports.\n",
    "- The brief talks of \"possibility of you getting into a car accident\" and \"how severe it will be\". This suggests that two outputs are needed. One for the probability/likelihood (%) of getting into a car accident and the second for what the severity/consequence could be. \n",
    "  - Severity (from sample data) is categorical and binary\n",
    "  - Severity (from Vicroads data) is categorical and multi-class (x4)  \n",
    "- The model will always assign / predict an output (severity). The likelihood of a crash will be the key determinant. __Perhaps the system can first predict the severity and then look at the geospatial information to determine if there is a high / increased likelihood of a crash.__"
   ]
  },
  {
   "cell_type": "markdown",
   "metadata": {},
   "source": [
    "---\n",
    "\n",
    "## Data <a name=\"data\"></a>"
   ]
  },
  {
   "cell_type": "markdown",
   "metadata": {},
   "source": [
    "#### Report Instructions:\n",
    "_Describe the data that you will be using to solve the problem or execute your idea. So make sure that you provide adequate explanation and discussion, with examples, of the data that you will be using._\n",
    "\n",
    "_In this phase, you need to collect or extract the dataset from various sources such as csv file or SQL database. Then, you need to determine the attributes (columns) that you will use to train your machine learning model. Also, you will assess the condition of chosen attributes by looking for trends, certain patterns, skewed information, correlations, and so on._"
   ]
  },
  {
   "cell_type": "markdown",
   "metadata": {},
   "source": [
    "##### Data Understanding:\n",
    "The data required for this stage should contain details that can be obtained prior to travel. Historical crash data would also contain data that is made available via police investigation and hostpital reports. This data can't be used for the model as it won't be available at the time of driving.\n",
    "\n",
    "##### Possible Detail / Features of Interest:  \n",
    "- Driver and passenger details (e.g. age, gender, # of occupants)\n",
    "- Date and time of travel (e.g. time of day, weekend/weekday, public holiday)\n",
    "- Vehicle details (engine type, age, safety rating)\n",
    "- Weather conditions\n",
    "- Lighting conditions\n",
    "- Road conditions (sealed, unsealed)\n",
    "- Location / Address\n",
    "\n",
    "##### Modelling Notes:\n",
    "- Use a selection of classification models to determine the crash severity and evaluate the best one:\n",
    "  - KNN\n",
    "  - Decision Tree\n",
    "  - SVC\n",
    "  - Ransom Forrest ?\n",
    "- Geospatial information should be a key feature for classification. E.g. if many people have had fatal crash at a particular intersection within a short period of time, then the likely consequence of another crash is a fatality. \n",
    "- Use geospatial analysis to determine the likelihood of a crash such as frequency of crashes at a particular location. This could simply be a formula based on the number of crashes within a period of time prior to the travel date.\n",
    "- Perhaps the geospatial data can be used to highlight accident hotspots in the nearby area.\n",
    "\n",
    "##### Exclusions:  \n",
    "- This data science course has focused on binary classification. As such this assignment will only focus on binary class output. Excess classes will be excluded/dropped from the data. Although the desired models chosen above can handle multiclass, the dataset will be simplified to binary class accident severity."
   ]
  },
  {
   "cell_type": "markdown",
   "metadata": {},
   "source": [
    "---"
   ]
  },
  {
   "cell_type": "markdown",
   "metadata": {},
   "source": [
    "##### Victorian Government | Department of Transport | Open data\n",
    "\n",
    "Fatal and injury crashes on Victorian roads during the latest five year reporting period. This data allows users to analyse Victorian fatal and injury crash data based on time, location, conditions, crash type, road user type, object hit etc. Road Safety data is provided by VicRoads for educational and research purposes. This data is in Web Mercator (Auxiliary Sphere) projection.\n",
    "\n",
    "_Crashes Last Five Years (Vicroads Open Data):_  \n",
    "https://vicroadsopendata-vicroadsmaps.opendata.arcgis.com/datasets/crashes-last-five-years\n",
    "\n",
    "_Metadata Information:_  \n",
    "http://data.vicroads.vic.gov.au/metadata/Crashes_Last_Five_Years%20-%20Open%20Data.html"
   ]
  },
  {
   "cell_type": "code",
   "execution_count": 43,
   "metadata": {},
   "outputs": [],
   "source": [
    "import numpy as np\n",
    "import pandas as pd\n",
    "%matplotlib inline\n",
    "import matplotlib.pyplot as plt\n",
    "\n",
    "from scipy import stats\n",
    "from scipy.stats import norm, skew\n",
    "\n",
    "import seaborn as sns\n",
    "color = sns.color_palette()\n",
    "sns.set_style('darkgrid')\n",
    "\n",
    "from sklearn import preprocessing\n",
    "from sklearn.neighbors import KNeighborsClassifier\n",
    "from sklearn.tree import DecisionTreeClassifier\n",
    "from sklearn import svm\n",
    "\n",
    "from sklearn.metrics import jaccard_similarity_score\n",
    "from sklearn.metrics import f1_score\n",
    "from sklearn.metrics import accuracy_score"
   ]
  },
  {
   "cell_type": "code",
   "execution_count": 2,
   "metadata": {},
   "outputs": [],
   "source": [
    "# Analysis will be focused on Victoria/Australia using data from the local road authority 'Vicroads'.\n",
    "crash_data_filename = \"Crashes_Last_Five_Years.csv\""
   ]
  },
  {
   "cell_type": "code",
   "execution_count": 3,
   "metadata": {},
   "outputs": [
    {
     "name": "stdout",
     "output_type": "stream",
     "text": [
      "Dataset Shape: (74908, 63)\n"
     ]
    }
   ],
   "source": [
    "crash_data_df = pd.read_csv(crash_data_filename)\n",
    "\n",
    "print(\"Dataset Shape:\", crash_data_df.shape)"
   ]
  },
  {
   "cell_type": "markdown",
   "metadata": {
    "scrolled": true
   },
   "source": [
    "This dataset is formatted to include one accident per record/line"
   ]
  },
  {
   "cell_type": "code",
   "execution_count": 4,
   "metadata": {
    "scrolled": false
   },
   "outputs": [
    {
     "data": {
      "text/html": [
       "<div>\n",
       "<style scoped>\n",
       "    .dataframe tbody tr th:only-of-type {\n",
       "        vertical-align: middle;\n",
       "    }\n",
       "\n",
       "    .dataframe tbody tr th {\n",
       "        vertical-align: top;\n",
       "    }\n",
       "\n",
       "    .dataframe thead th {\n",
       "        text-align: right;\n",
       "    }\n",
       "</style>\n",
       "<table border=\"1\" class=\"dataframe\">\n",
       "  <thead>\n",
       "    <tr style=\"text-align: right;\">\n",
       "      <th></th>\n",
       "      <th>OBJECTID</th>\n",
       "      <th>ACCIDENT_NO</th>\n",
       "      <th>ABS_CODE</th>\n",
       "      <th>ACCIDENT_STATUS</th>\n",
       "      <th>ACCIDENT_DATE</th>\n",
       "      <th>ACCIDENT_TIME</th>\n",
       "      <th>ALCOHOLTIME</th>\n",
       "      <th>ACCIDENT_TYPE</th>\n",
       "      <th>DAY_OF_WEEK</th>\n",
       "      <th>DCA_CODE</th>\n",
       "      <th>...</th>\n",
       "      <th>DEG_URBAN_ALL</th>\n",
       "      <th>LGA_NAME_ALL</th>\n",
       "      <th>REGION_NAME_ALL</th>\n",
       "      <th>SRNS</th>\n",
       "      <th>SRNS_ALL</th>\n",
       "      <th>RMA</th>\n",
       "      <th>RMA_ALL</th>\n",
       "      <th>DIVIDED</th>\n",
       "      <th>DIVIDED_ALL</th>\n",
       "      <th>STAT_DIV_NAME</th>\n",
       "    </tr>\n",
       "  </thead>\n",
       "  <tbody>\n",
       "    <tr>\n",
       "      <th>0</th>\n",
       "      <td>3401744</td>\n",
       "      <td>T20130013732</td>\n",
       "      <td>ABS to receive accident</td>\n",
       "      <td>Finished</td>\n",
       "      <td>1/7/2013</td>\n",
       "      <td>18.30.00</td>\n",
       "      <td>Yes</td>\n",
       "      <td>Struck Pedestrian</td>\n",
       "      <td>Monday</td>\n",
       "      <td>PED NEAR SIDE. PED HIT BY VEHICLE FROM THE RIGHT.</td>\n",
       "      <td>...</td>\n",
       "      <td>MELB_URBAN</td>\n",
       "      <td>MELBOURNE</td>\n",
       "      <td>METROPOLITAN NORTH WEST REGION</td>\n",
       "      <td>NaN</td>\n",
       "      <td>NaN</td>\n",
       "      <td>Local Road</td>\n",
       "      <td>Local Road</td>\n",
       "      <td>Undivided</td>\n",
       "      <td>Undiv</td>\n",
       "      <td>Metro</td>\n",
       "    </tr>\n",
       "    <tr>\n",
       "      <th>1</th>\n",
       "      <td>3401745</td>\n",
       "      <td>T20130013736</td>\n",
       "      <td>ABS to receive accident</td>\n",
       "      <td>Finished</td>\n",
       "      <td>2/7/2013</td>\n",
       "      <td>16.40.00</td>\n",
       "      <td>No</td>\n",
       "      <td>Collision with vehicle</td>\n",
       "      <td>Tuesday</td>\n",
       "      <td>PARKED VEHICLES ONLY</td>\n",
       "      <td>...</td>\n",
       "      <td>MELB_URBAN</td>\n",
       "      <td>WHITEHORSE</td>\n",
       "      <td>METROPOLITAN SOUTH EAST REGION</td>\n",
       "      <td>NaN</td>\n",
       "      <td>NaN</td>\n",
       "      <td>Arterial Other</td>\n",
       "      <td>Arterial Other,Local Road</td>\n",
       "      <td>Divided</td>\n",
       "      <td>Div,Undiv</td>\n",
       "      <td>Metro</td>\n",
       "    </tr>\n",
       "    <tr>\n",
       "      <th>2</th>\n",
       "      <td>3401746</td>\n",
       "      <td>T20130013737</td>\n",
       "      <td>ABS to receive accident</td>\n",
       "      <td>Finished</td>\n",
       "      <td>2/7/2013</td>\n",
       "      <td>13.15.00</td>\n",
       "      <td>No</td>\n",
       "      <td>Collision with a fixed object</td>\n",
       "      <td>Tuesday</td>\n",
       "      <td>RIGHT OFF CARRIAGEWAY INTO OBJECT/PARKED VEHICLE</td>\n",
       "      <td>...</td>\n",
       "      <td>MELB_URBAN</td>\n",
       "      <td>BRIMBANK</td>\n",
       "      <td>METROPOLITAN NORTH WEST REGION</td>\n",
       "      <td>NaN</td>\n",
       "      <td>NaN</td>\n",
       "      <td>Local Road</td>\n",
       "      <td>Local Road</td>\n",
       "      <td>Undivided</td>\n",
       "      <td>Undiv</td>\n",
       "      <td>Metro</td>\n",
       "    </tr>\n",
       "    <tr>\n",
       "      <th>3</th>\n",
       "      <td>3401747</td>\n",
       "      <td>T20130013738</td>\n",
       "      <td>ABS to receive accident</td>\n",
       "      <td>Finished</td>\n",
       "      <td>2/7/2013</td>\n",
       "      <td>16.45.00</td>\n",
       "      <td>No</td>\n",
       "      <td>Collision with a fixed object</td>\n",
       "      <td>Tuesday</td>\n",
       "      <td>RIGHT OFF CARRIAGEWAY INTO OBJECT/PARKED VEHICLE</td>\n",
       "      <td>...</td>\n",
       "      <td>RURAL_VICTORIA</td>\n",
       "      <td>MITCHELL</td>\n",
       "      <td>NORTHERN REGION</td>\n",
       "      <td>M</td>\n",
       "      <td>M</td>\n",
       "      <td>Freeway</td>\n",
       "      <td>Freeway</td>\n",
       "      <td>Divided</td>\n",
       "      <td>Div</td>\n",
       "      <td>Country</td>\n",
       "    </tr>\n",
       "    <tr>\n",
       "      <th>4</th>\n",
       "      <td>3401748</td>\n",
       "      <td>T20130013739</td>\n",
       "      <td>ABS to receive accident</td>\n",
       "      <td>Finished</td>\n",
       "      <td>2/7/2013</td>\n",
       "      <td>15.48.00</td>\n",
       "      <td>No</td>\n",
       "      <td>Collision with vehicle</td>\n",
       "      <td>Tuesday</td>\n",
       "      <td>U TURN</td>\n",
       "      <td>...</td>\n",
       "      <td>MELBOURNE_CBD,MELB_URBAN</td>\n",
       "      <td>MELBOURNE</td>\n",
       "      <td>METROPOLITAN NORTH WEST REGION</td>\n",
       "      <td>NaN</td>\n",
       "      <td>NaN</td>\n",
       "      <td>Local Road</td>\n",
       "      <td>Local Road</td>\n",
       "      <td>Undivided</td>\n",
       "      <td>Undiv</td>\n",
       "      <td>Metro</td>\n",
       "    </tr>\n",
       "  </tbody>\n",
       "</table>\n",
       "<p>5 rows × 63 columns</p>\n",
       "</div>"
      ],
      "text/plain": [
       "   OBJECTID   ACCIDENT_NO                 ABS_CODE ACCIDENT_STATUS  \\\n",
       "0   3401744  T20130013732  ABS to receive accident        Finished   \n",
       "1   3401745  T20130013736  ABS to receive accident        Finished   \n",
       "2   3401746  T20130013737  ABS to receive accident        Finished   \n",
       "3   3401747  T20130013738  ABS to receive accident        Finished   \n",
       "4   3401748  T20130013739  ABS to receive accident        Finished   \n",
       "\n",
       "  ACCIDENT_DATE ACCIDENT_TIME ALCOHOLTIME                  ACCIDENT_TYPE  \\\n",
       "0      1/7/2013      18.30.00         Yes              Struck Pedestrian   \n",
       "1      2/7/2013      16.40.00          No         Collision with vehicle   \n",
       "2      2/7/2013      13.15.00          No  Collision with a fixed object   \n",
       "3      2/7/2013      16.45.00          No  Collision with a fixed object   \n",
       "4      2/7/2013      15.48.00          No         Collision with vehicle   \n",
       "\n",
       "  DAY_OF_WEEK                                           DCA_CODE  \\\n",
       "0      Monday  PED NEAR SIDE. PED HIT BY VEHICLE FROM THE RIGHT.   \n",
       "1     Tuesday                               PARKED VEHICLES ONLY   \n",
       "2     Tuesday   RIGHT OFF CARRIAGEWAY INTO OBJECT/PARKED VEHICLE   \n",
       "3     Tuesday   RIGHT OFF CARRIAGEWAY INTO OBJECT/PARKED VEHICLE   \n",
       "4     Tuesday                                             U TURN   \n",
       "\n",
       "       ...                   DEG_URBAN_ALL LGA_NAME_ALL  \\\n",
       "0      ...                      MELB_URBAN    MELBOURNE   \n",
       "1      ...                      MELB_URBAN   WHITEHORSE   \n",
       "2      ...                      MELB_URBAN     BRIMBANK   \n",
       "3      ...                  RURAL_VICTORIA     MITCHELL   \n",
       "4      ...        MELBOURNE_CBD,MELB_URBAN    MELBOURNE   \n",
       "\n",
       "                  REGION_NAME_ALL SRNS SRNS_ALL             RMA  \\\n",
       "0  METROPOLITAN NORTH WEST REGION  NaN      NaN      Local Road   \n",
       "1  METROPOLITAN SOUTH EAST REGION  NaN      NaN  Arterial Other   \n",
       "2  METROPOLITAN NORTH WEST REGION  NaN      NaN      Local Road   \n",
       "3                 NORTHERN REGION    M        M         Freeway   \n",
       "4  METROPOLITAN NORTH WEST REGION  NaN      NaN      Local Road   \n",
       "\n",
       "                     RMA_ALL    DIVIDED  DIVIDED_ALL  STAT_DIV_NAME  \n",
       "0                 Local Road  Undivided        Undiv          Metro  \n",
       "1  Arterial Other,Local Road    Divided    Div,Undiv          Metro  \n",
       "2                 Local Road  Undivided        Undiv          Metro  \n",
       "3                    Freeway    Divided          Div        Country  \n",
       "4                 Local Road  Undivided        Undiv          Metro  \n",
       "\n",
       "[5 rows x 63 columns]"
      ]
     },
     "execution_count": 4,
     "metadata": {},
     "output_type": "execute_result"
    }
   ],
   "source": [
    "crash_data_df.head(5)"
   ]
  },
  {
   "cell_type": "code",
   "execution_count": 5,
   "metadata": {},
   "outputs": [
    {
     "name": "stdout",
     "output_type": "stream",
     "text": [
      "Dataset Unique Accident Records: (74908,)\n"
     ]
    }
   ],
   "source": [
    "print(\"Dataset Unique Accident Records:\", crash_data_df['ACCIDENT_NO'].unique().shape)"
   ]
  },
  {
   "cell_type": "markdown",
   "metadata": {
    "scrolled": true
   },
   "source": [
    "This dataset is formatted to include one accident per record/line"
   ]
  },
  {
   "cell_type": "code",
   "execution_count": 6,
   "metadata": {},
   "outputs": [
    {
     "name": "stdout",
     "output_type": "stream",
     "text": [
      "Other injury accident      52032\n",
      "Serious injury accident    21561\n",
      "Fatal accident              1314\n",
      "Non injury accident            1\n",
      "Name: SEVERITY, dtype: int64 \n",
      "\n",
      "Other injury accident      69.461206\n",
      "Serious injury accident    28.783308\n",
      "Fatal accident              1.754152\n",
      "Non injury accident         0.001335\n",
      "Name: SEVERITY, dtype: float64\n"
     ]
    }
   ],
   "source": [
    "# pd.shape\n",
    "# pd.value_counts()\n",
    "# pd.unique()\n",
    "# pd.describe(include='all')\n",
    "\n",
    "totalRecords = crash_data_df.shape[0]\n",
    "print(crash_data_df['SEVERITY'].value_counts(),'\\n')\n",
    "print(crash_data_df['SEVERITY'].value_counts()/totalRecords*100)"
   ]
  },
  {
   "cell_type": "markdown",
   "metadata": {},
   "source": [
    "##### Notes:  \n",
    "Given the need to keep the output binary (as this data science course has not covered multi-class classification), I will focus the modelling on just two classes:  \n",
    "- Other injury accident - 52032 records\n",
    "- Serious injury accident - 21561 records\n",
    "\n",
    "This will give enough data to attempt an undersampling approach to balance the data set."
   ]
  },
  {
   "cell_type": "code",
   "execution_count": 41,
   "metadata": {},
   "outputs": [
    {
     "name": "stdout",
     "output_type": "stream",
     "text": [
      "Dataset Shape: (73593, 63) \n",
      "\n",
      "Severity Column Values:\n",
      "Other injury accident      52032\n",
      "Serious injury accident    21561\n",
      "Name: SEVERITY, dtype: int64\n",
      "\n",
      "Other injury accident      70.702377\n",
      "Serious injury accident    29.297623\n",
      "Name: SEVERITY, dtype: float64\n"
     ]
    }
   ],
   "source": [
    "# Remove the small classes from the output to create a binary output with 52032 + 21561 records:\n",
    "crash_data_df = crash_data_df[~crash_data_df['SEVERITY'].isin(['Fatal accident', 'Non injury accident'])]\n",
    "\n",
    "# Stats of modified dataset\n",
    "print('Dataset Shape:',crash_data_df.shape,'\\n')\n",
    "\n",
    "totalRecords = crash_data_df.shape[0]\n",
    "print('Severity Column Values:')\n",
    "print('{0}\\n'.format(crash_data_df['SEVERITY'].value_counts()))\n",
    "print('{0}'.format(crash_data_df['SEVERITY'].value_counts()/totalRecords*100))"
   ]
  },
  {
   "cell_type": "code",
   "execution_count": 60,
   "metadata": {},
   "outputs": [
    {
     "data": {
      "text/plain": [
       "(array([    0,     0,     1, ..., 73590, 73591, 73591], dtype=int64),\n",
       " array([56, 57, 56, ..., 57, 56, 57], dtype=int64))"
      ]
     },
     "execution_count": 60,
     "metadata": {},
     "output_type": "execute_result"
    }
   ],
   "source": [
    "# Find Nulls:\n",
    "# np.where(pd.isnull(crash_data_df))\n",
    "np.where(pd.isnull(crash_data_df))\n",
    "\n",
    "#[crash_data_df.iloc[i,j] for i,j in zip(*np.where(pd.isnull(crash_data_df)))]\n",
    "#crash_data_df.iloc[0,56]"
   ]
  },
  {
   "cell_type": "code",
   "execution_count": null,
   "metadata": {},
   "outputs": [],
   "source": []
  },
  {
   "cell_type": "code",
   "execution_count": null,
   "metadata": {},
   "outputs": [],
   "source": []
  },
  {
   "cell_type": "code",
   "execution_count": null,
   "metadata": {},
   "outputs": [],
   "source": []
  },
  {
   "cell_type": "code",
   "execution_count": null,
   "metadata": {},
   "outputs": [],
   "source": []
  }
 ],
 "metadata": {
  "kernelspec": {
   "display_name": "Python 3",
   "language": "python",
   "name": "python3"
  },
  "language_info": {
   "codemirror_mode": {
    "name": "ipython",
    "version": 3
   },
   "file_extension": ".py",
   "mimetype": "text/x-python",
   "name": "python",
   "nbconvert_exporter": "python",
   "pygments_lexer": "ipython3",
   "version": "3.6.5"
  }
 },
 "nbformat": 4,
 "nbformat_minor": 2
}
